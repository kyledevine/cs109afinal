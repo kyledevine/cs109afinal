{
 "cells": [
  {
   "cell_type": "markdown",
   "metadata": {},
   "source": [
    "# Final Results: Gross Box Office"
   ]
  },
  {
   "cell_type": "markdown",
   "metadata": {},
   "source": [
    "Import libraries"
   ]
  },
  {
   "cell_type": "code",
   "execution_count": 9,
   "metadata": {
    "collapsed": false
   },
   "outputs": [],
   "source": [
    "import numpy as np\n",
    "import pandas as pd\n",
    "from sklearn.linear_model import LogisticRegression as LogReg\n",
    "import matplotlib\n",
    "import matplotlib.pyplot as plt\n",
    "import math\n",
    "import StringIO\n",
    "import sklearn\n",
    "from sklearn.decomposition import PCA\n",
    "from sklearn.utils import shuffle\n",
    "from sklearn.ensemble import RandomForestRegressor as RFR\n",
    "from sklearn import svm\n",
    "from sklearn.dummy import DummyClassifier as Dummy\n",
    "from sklearn.cross_validation import cross_val_score\n",
    "from sklearn.linear_model import LinearRegression as LinReg\n",
    "from sklearn.linear_model import LogisticRegression\n",
    "from sklearn.linear_model import Ridge\n",
    "from sklearn.linear_model import Lasso\n",
    "from sklearn.discriminant_analysis import LinearDiscriminantAnalysis as LDA\n",
    "from sklearn.discriminant_analysis import QuadraticDiscriminantAnalysis as QDA\n",
    "from sklearn.neighbors import KNeighborsClassifier as KNN\n",
    "from sklearn import tree\n",
    "from sklearn.tree import DecisionTreeClassifier as DecisionTree\n",
    "from sklearn.ensemble import RandomForestClassifier as RFC\n",
    "from sklearn.svm import SVC\n",
    "%matplotlib inline"
   ]
  },
  {
   "cell_type": "code",
   "execution_count": 10,
   "metadata": {
    "collapsed": false,
    "scrolled": true
   },
   "outputs": [],
   "source": [
    "# read in movie date\n",
    "movie_data = pd.read_csv('movie_metadata.csv')\n",
    "movie_data = movie_data[np.isfinite(movie_data['budget'])]\n",
    "movie_data = movie_data[np.isfinite(movie_data['duration'])]\n",
    "movie_data = movie_data[np.isfinite(movie_data['gross'])]\n",
    "movie_data = movie_data[np.isfinite(movie_data['title_year'])]\n",
    "movie_data = movie_data[np.isfinite(movie_data['cast_total_facebook_likes'])]\n",
    "movie_data = movie_data[np.isfinite(movie_data['imdb_score'])]\n",
    "\n",
    "# create genre list\n",
    "genre_list = ['Action', 'Adventure', 'Animation', 'Biography', 'Comedy', 'Crime', 'Drama', 'Fantasy', 'History', 'Horror', 'Mystery', 'Romance']\n",
    "\n",
    "# create categorical variables for these common genres\n",
    "for genre in genre_list:\n",
    "    lst = []\n",
    "    for index, row in movie_data.iterrows():\n",
    "        if (row['genres']).find(genre) != -1:\n",
    "            lst.append(1)\n",
    "        else:\n",
    "            lst.append(0)\n",
    "    movie_data[genre] = lst"
   ]
  },
  {
   "cell_type": "code",
   "execution_count": 11,
   "metadata": {
    "collapsed": false
   },
   "outputs": [
    {
     "name": "stdout",
     "output_type": "stream",
     "text": [
      "Number of Directors:  91\n"
     ]
    }
   ],
   "source": [
    "# gets counts of most common directors\n",
    "counts = pd.value_counts(movie_data['director_name'])\n",
    "counts = counts[counts > 6]\n",
    "\n",
    "directors = counts.index.tolist()\n",
    "print \"Number of Directors: \", len(directors)"
   ]
  },
  {
   "cell_type": "code",
   "execution_count": 12,
   "metadata": {
    "collapsed": false
   },
   "outputs": [
    {
     "name": "stdout",
     "output_type": "stream",
     "text": [
      "Number of Actors:  97\n"
     ]
    }
   ],
   "source": [
    "# get counts of most common actors\n",
    "counts_actors = pd.value_counts(movie_data['actor_1_name'])\n",
    "\n",
    "counts_actors = counts_actors[counts_actors > 7]\n",
    "\n",
    "actors = counts_actors.index.tolist()\n",
    "print \"Number of Actors: \", len(actors)"
   ]
  },
  {
   "cell_type": "code",
   "execution_count": 13,
   "metadata": {
    "collapsed": false
   },
   "outputs": [],
   "source": [
    "# create categorical values for each director\n",
    "for director in directors:\n",
    "    lst = []\n",
    "    for _, row in movie_data.iterrows():\n",
    "        if row['director_name'] == director:\n",
    "            lst.append(1)\n",
    "        else:\n",
    "            lst.append(0)\n",
    "    movie_data[director] = lst"
   ]
  },
  {
   "cell_type": "code",
   "execution_count": 14,
   "metadata": {
    "collapsed": true
   },
   "outputs": [],
   "source": [
    "# create categorical values for each actor\n",
    "for actor in actors:\n",
    "    lst = []\n",
    "    for _, row in movie_data.iterrows():\n",
    "        if row['actor_1_name'] == actor or row['actor_2_name'] == actor or row['actor_3_name'] == actor:\n",
    "            lst.append(1)\n",
    "        else:\n",
    "            lst.append(0)\n",
    "    movie_data[actor] = lst"
   ]
  },
  {
   "cell_type": "code",
   "execution_count": 15,
   "metadata": {
    "collapsed": false
   },
   "outputs": [],
   "source": [
    "# read in inflation file\n",
    "inf = np.loadtxt('inf.csv')\n",
    "\n",
    "budget_inf = []\n",
    "gross_inf = []\n",
    "\n",
    "# get log value for each budget and gross\n",
    "for _, row in movie_data.iterrows():\n",
    "    budget = math.log10(row['budget'])\n",
    "    gross = math.log10(row['gross'])\n",
    "    budget_inf.append(budget)\n",
    "    gross_inf.append(gross)\n",
    "\n",
    "# create columns for log values\n",
    "movie_data['budget_inf'] = budget_inf\n",
    "movie_data['gross_inf'] = gross_inf"
   ]
  },
  {
   "cell_type": "code",
   "execution_count": 183,
   "metadata": {
    "collapsed": false
   },
   "outputs": [
    {
     "name": "stdout",
     "output_type": "stream",
     "text": [
      "Random Forest Regression (depth 7) Model on Training Set 0.697247639879\n",
      "Random Forest Regression (depth 7) Model on Testing Set 0.489158064347\n"
     ]
    }
   ],
   "source": [
    "### predict gross box office\n",
    "\n",
    "train_test = pd.DataFrame({})\n",
    "\n",
    "for genre in genre_list:\n",
    "    train_test = pd.concat([train_test, movie_data[genre]], axis = 1)\n",
    "\n",
    "train_test = pd.concat([train_test, movie_data[directors]], axis = 1)\n",
    "train_test = pd.concat([train_test, movie_data[actors]], axis = 1)\n",
    "train_test = pd.concat([train_test, movie_data['budget']], axis = 1)\n",
    "train_test = pd.concat([train_test, movie_data['title_year']], axis = 1)\n",
    "train_test = pd.concat([train_test, movie_data['gross']], axis = 1)\n",
    "train_test = pd.concat([train_test, movie_data['duration']], axis = 1)\n",
    "train_test = pd.concat([train_test, pd.get_dummies(movie_data['content_rating'])], axis = 1)\n",
    "\n",
    "training, testing = sklearn.model_selection.train_test_split(train_test, train_size = 0.4, test_size = 0.6)\n",
    "\n",
    "rfr_model = RFR(max_depth = 7, n_estimators =10)\n",
    "\n",
    "rfr_model.fit(training.drop('gross', axis=1), training['gross'])\n",
    "\n",
    "print \"Random Forest Regression (depth 7) Model on Training Set\", rfr_model.score(training.drop('gross', axis = 1), training['gross'])\n",
    "print \"Random Forest Regression (depth 7) Model on Testing Set\", rfr_model.score(testing.drop('gross', axis = 1), testing['gross'])"
   ]
  },
  {
   "cell_type": "code",
   "execution_count": 184,
   "metadata": {
    "collapsed": false
   },
   "outputs": [],
   "source": [
    "# get random sample of movie data\n",
    "_, sample = sklearn.model_selection.train_test_split(train_test, test_size = .02)\n",
    "actual = sample['gross']\n",
    "predictions = rfr_model.predict(sample.drop('gross', axis = 1))"
   ]
  },
  {
   "cell_type": "code",
   "execution_count": 186,
   "metadata": {
    "collapsed": false
   },
   "outputs": [
    {
     "data": {
      "text/plain": [
       "<matplotlib.legend.Legend at 0x11c317d90>"
      ]
     },
     "execution_count": 186,
     "metadata": {},
     "output_type": "execute_result"
    },
    {
     "data": {
      "image/png": "[encoded data removed]",
      "text/plain": [
       "<matplotlib.figure.Figure at 0x120a3a590>"
      ]
     },
     "metadata": {},
     "output_type": "display_data"
    }
   ],
   "source": [
    "# make lists for CV, training, and testing scores\n",
    "cv_list = []\n",
    "test_scores = []\n",
    "train_scores = []\n",
    "train_test_shuffled = shuffle(train_test)\n",
    "\n",
    "# for each max depth value, get CV, training, and testing scores\n",
    "for i in range(5,20):\n",
    "    rfr_model = RFR(max_depth = i)\n",
    "    cv_scores = cross_val_score(rfr_model, train_test_shuffled.drop('gross',axis=1), train_test_shuffled['gross'], cv = 5)\n",
    "    cv_list.append(np.mean(cv_scores))\n",
    "    rfr_model.fit(training.drop('gross', axis=1), training['gross'])\n",
    "    train_scores.append(rfr_model.score(training.drop('gross', axis=1), training['gross']))\n",
    "    test_scores.append(rfr_model.score(testing.drop('gross', axis=1), testing['gross']))\n",
    "\n",
    "# plot values\n",
    "fig = plt.figure(figsize = (10,15))\n",
    "ax1 = fig.add_subplot(211)\n",
    "ax2 = fig.add_subplot(212)\n",
    "\n",
    "ax1.plot(range(5,20), cv_list, label= 'CV')\n",
    "ax1.plot(range(5,20), train_scores, c = 'g', label = 'Training')\n",
    "ax1.plot(range(5,20), test_scores, c='r', label = 'Testing')\n",
    "ax1.set_title('Scores vs. RF Maximum Depth for Gross Predictions')\n",
    "ax1.set_xlabel('Maximum Depth')\n",
    "ax1.set_ylabel('Score')\n",
    "ax1.legend()\n",
    "\n",
    "ax2.scatter(sample['budget'], actual, label='actual gross')\n",
    "ax2.scatter(sample['budget'], predictions, c = 'r', label='predicted gross')\n",
    "ax2.set_title('Prediction against Actual Gross Revenue')\n",
    "ax2.set_xlabel('Budget')\n",
    "ax2.set_ylabel('Gross')\n",
    "ax2.legend()"
   ]
  },
  {
   "cell_type": "code",
   "execution_count": 19,
   "metadata": {
    "collapsed": false
   },
   "outputs": [],
   "source": [
    "# create classes for gross box office\n",
    "lst = []\n",
    "for index, row in movie_data.iterrows():\n",
    "        if row['gross'] > 600000000:\n",
    "            lst.append(5)\n",
    "        elif row['gross'] > 200000000:\n",
    "            lst.append(4)\n",
    "        elif row['gross'] > 50000000:\n",
    "            lst.append(3)\n",
    "        elif row['gross'] > 10000000: \n",
    "            lst.append(2)\n",
    "        else:\n",
    "            lst.append(1)\n",
    "\n",
    "movie_data['gross_class'] = lst"
   ]
  },
  {
   "cell_type": "code",
   "execution_count": 20,
   "metadata": {
    "collapsed": false
   },
   "outputs": [],
   "source": [
    "# create dataframe of relevent variables\n",
    "train_test = pd.DataFrame({})\n",
    "\n",
    "for genre in genre_list:\n",
    "    train_test = pd.concat([train_test, movie_data[genre]], axis = 1)\n",
    "\n",
    "train_test = pd.concat([train_test, movie_data[directors]], axis = 1)\n",
    "train_test = pd.concat([train_test, movie_data[actors]], axis = 1)\n",
    "train_test = pd.concat([train_test, movie_data['budget']], axis = 1)\n",
    "train_test = pd.concat([train_test, movie_data['duration']], axis = 1)\n",
    "train_test = pd.concat([train_test, movie_data['gross_class']], axis = 1)\n",
    "train_test = pd.concat([train_test, movie_data['title_year']], axis = 1)\n",
    "\n",
    "training, testing = sklearn.model_selection.train_test_split(train_test, train_size = 0.4, test_size = 0.6)"
   ]
  },
  {
   "cell_type": "code",
   "execution_count": 22,
   "metadata": {
    "collapsed": false
   },
   "outputs": [
    {
     "name": "stdout",
     "output_type": "stream",
     "text": [
      "Box Office class (unadjusted)\n",
      "\tDummy Model 0.313196229649\n",
      "\tRandom Forest Classifier Model 0.558269065981\n"
     ]
    }
   ],
   "source": [
    "# score dummy model for gross box office class\n",
    "print \"Box Office class (unadjusted)\"\n",
    "d_model = Dummy()\n",
    "d_model.fit(training.drop('gross_class', axis=1), training['gross_class'])\n",
    "print \"\\tDummy Model\", d_model.score(testing.drop('gross_class', axis = 1), testing['gross_class'])\n",
    "\n",
    "# score RFC model\n",
    "rfc_model = RFC(max_depth=9)\n",
    "rfc_model.fit(training.drop('gross_class', axis=1), training['gross_class'])\n",
    "print \"\\tRandom Forest Classifier Model\", rfc_model.score(testing.drop('gross_class', axis = 1), testing['gross_class'])"
   ]
  },
  {
   "cell_type": "code",
   "execution_count": null,
   "metadata": {
    "collapsed": true
   },
   "outputs": [],
   "source": []
  }
 ],
 "metadata": {
  "anaconda-cloud": {},
  "kernelspec": {
   "display_name": "Python [Root]",
   "language": "python",
   "name": "Python [Root]"
  },
  "language_info": {
   "codemirror_mode": {
    "name": "ipython",
    "version": 2
   },
   "file_extension": ".py",
   "mimetype": "text/x-python",
   "name": "python",
   "nbconvert_exporter": "python",
   "pygments_lexer": "ipython2",
   "version": "2.7.12"
  }
 },
 "nbformat": 4,
 "nbformat_minor": 0
}
