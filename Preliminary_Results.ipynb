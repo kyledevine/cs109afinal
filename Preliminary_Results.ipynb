{
 "cells": [
  {
   "cell_type": "markdown",
   "metadata": {},
   "source": [
    "# Preliminary Results"
   ]
  },
  {
   "cell_type": "markdown",
   "metadata": {},
   "source": [
    "Import libraries"
   ]
  },
  {
   "cell_type": "code",
   "execution_count": 290,
   "metadata": {
    "collapsed": false
   },
   "outputs": [],
   "source": [
    "import numpy as np\n",
    "import pandas as pd\n",
    "from sklearn.linear_model import LogisticRegression as LogReg\n",
    "import matplotlib\n",
    "import matplotlib.pyplot as plt\n",
    "import math\n",
    "import sklearn\n",
    "from sklearn.dummy import DummyClassifier as Dummy\n",
    "from sklearn.linear_model import LinearRegression as LinReg\n",
    "from sklearn.linear_model import LogisticRegression\n",
    "from sklearn.discriminant_analysis import LinearDiscriminantAnalysis as LDA\n",
    "from sklearn.discriminant_analysis import QuadraticDiscriminantAnalysis as QDA\n",
    "from sklearn.neighbors import KNeighborsClassifier as KNN\n",
    "from sklearn.tree import DecisionTreeClassifier as DecisionTree\n",
    "from sklearn.ensemble import RandomForestClassifier as RandomForest\n",
    "from sklearn.svm import SVC\n",
    "%matplotlib inline"
   ]
  },
  {
   "cell_type": "code",
   "execution_count": 354,
   "metadata": {
    "collapsed": false
   },
   "outputs": [
    {
     "data": {
      "text/plain": [
       "<matplotlib.figure.Figure at 0x11808ba10>"
      ]
     },
     "metadata": {},
     "output_type": "display_data"
    }
   ],
   "source": [
    "movie_data = pd.read_csv('movie_metadata.csv')\n",
    "movie_data = movie_data.dropna()\n",
    "movie_data = movie_data[movie_data['movie_facebook_likes'] > 0]\n",
    "\n",
    "fig = plt.figure(figsize=(20,15))\n",
    "\n",
    "# create genre list\n",
    "genre_list = ['Action', 'Adventure', 'Animation', 'Biography', 'Comedy', 'Crime', 'Drama', 'Fantasy', 'History', 'Horror', 'Mystery', 'Romance']\n",
    "\n",
    "# create categorical variables for these common genres\n",
    "for genre in genre_list:\n",
    "    lst = []\n",
    "    for index, row in movie_data.iterrows():\n",
    "        if (row['genres']).find(genre) != -1:\n",
    "            lst.append(1)\n",
    "        else:\n",
    "            lst.append(0)\n",
    "    movie_data[genre] = lst"
   ]
  },
  {
   "cell_type": "code",
   "execution_count": 291,
   "metadata": {
    "collapsed": false
   },
   "outputs": [
    {
     "name": "stdout",
     "output_type": "stream",
     "text": [
      "Naive Linear Regression Model 0.0805890115215\n"
     ]
    }
   ],
   "source": [
    "# create dataframe for testing\n",
    "train_test = pd.DataFrame({})\n",
    "\n",
    "# add relevent variables\n",
    "train_test = pd.concat([train_test, movie_data['director_facebook_likes']], axis = 1)\n",
    "train_test = pd.concat([train_test, movie_data['cast_total_facebook_likes']], axis = 1)\n",
    "train_test = pd.concat([train_test, movie_data['budget']], axis = 1)\n",
    "train_test = pd.concat([train_test, movie_data['imdb_score']], axis = 1)\n",
    "\n",
    "# split variables\n",
    "training, testing = sklearn.model_selection.train_test_split(train_test, train_size = 0.4, test_size = 0.6)\n",
    "\n",
    "# create linear model to fit and score\n",
    "lr_model = LinReg()\n",
    "lr_model.fit(training.drop('imdb_score', axis=1), training['imdb_score'])\n",
    "\n",
    "print \"Naive Linear Regression Model\", lr_model.score(testing.drop('imdb_score', axis = 1), testing['imdb_score'])"
   ]
  },
  {
   "cell_type": "code",
   "execution_count": 355,
   "metadata": {
    "collapsed": false
   },
   "outputs": [
    {
     "name": "stdout",
     "output_type": "stream",
     "text": [
      "Naive Linear Regression Model 0.157014670481\n"
     ]
    }
   ],
   "source": [
    "### try using genre categories\n",
    "\n",
    "train_test = pd.DataFrame({})\n",
    "\n",
    "for genre in genre_list:\n",
    "    train_test = pd.concat([train_test, movie_data[genre]], axis = 1)\n",
    "\n",
    "train_test = pd.concat([train_test, movie_data['imdb_score']], axis = 1)\n",
    "training, testing = sklearn.model_selection.train_test_split(train_test, train_size = 0.4, test_size = 0.6)\n",
    "\n",
    "lr_model = LinReg()\n",
    "lr_model.fit(training.drop('imdb_score', axis=1), training['imdb_score'])\n",
    "\n",
    "print \"Naive Linear Regression Model\",lr_model.score(testing.drop('imdb_score', axis = 1), testing['imdb_score'])"
   ]
  },
  {
   "cell_type": "code",
   "execution_count": 118,
   "metadata": {
    "collapsed": false
   },
   "outputs": [
    {
     "name": "stdout",
     "output_type": "stream",
     "text": [
      "Naive Linear Regression Model 0.218270863766\n"
     ]
    }
   ],
   "source": [
    "### try all variables we've tested so far\n",
    "\n",
    "train_test = pd.DataFrame({})\n",
    "\n",
    "for genre in genre_list:\n",
    "    train_test = pd.concat([train_test, movie_data[genre]], axis = 1)\n",
    "\n",
    "train_test = pd.concat([train_test, movie_data['director_facebook_likes']], axis = 1)\n",
    "train_test = pd.concat([train_test, movie_data['cast_total_facebook_likes']], axis = 1)\n",
    "train_test = pd.concat([train_test, movie_data['budget']], axis = 1)\n",
    "train_test = pd.concat([train_test, movie_data['imdb_score']], axis = 1)\n",
    "\n",
    "training, testing = sklearn.model_selection.train_test_split(train_test, train_size = 0.4, test_size = 0.6)\n",
    "\n",
    "\n",
    "lr_model = LinReg()\n",
    "lr_model.fit(training.drop('imdb_score', axis=1), training['imdb_score'])\n",
    "\n",
    "print \"Naive Linear Regression Model\", lr_model.score(testing.drop('imdb_score', axis = 1), testing['imdb_score'])"
   ]
  },
  {
   "cell_type": "code",
   "execution_count": 325,
   "metadata": {
    "collapsed": false
   },
   "outputs": [
    {
     "name": "stdout",
     "output_type": "stream",
     "text": [
      "Naive Linear Regression Model 0.206170001658\n"
     ]
    }
   ],
   "source": [
    "### predict gross box office\n",
    "\n",
    "train_test = pd.DataFrame({})\n",
    "\n",
    "for genre in genre_list:\n",
    "    train_test = pd.concat([train_test, movie_data[genre]], axis = 1)\n",
    "\n",
    "train_test = pd.concat([train_test, movie_data['director_facebook_likes']], axis = 1)\n",
    "train_test = pd.concat([train_test, movie_data['cast_total_facebook_likes']], axis = 1)\n",
    "train_test = pd.concat([train_test, movie_data['budget']], axis = 1)\n",
    "train_test = pd.concat([train_test, movie_data['gross']], axis = 1)\n",
    "\n",
    "training, testing = sklearn.model_selection.train_test_split(train_test, train_size = 0.4, test_size = 0.6)\n",
    "\n",
    "\n",
    "lr_model = LinReg()\n",
    "lr_model.fit(training.drop('gross', axis=1), training['gross'])\n",
    "\n",
    "print \"Naive Linear Regression Model\", lr_model.score(testing.drop('gross', axis = 1), testing['gross'])"
   ]
  },
  {
   "cell_type": "code",
   "execution_count": 326,
   "metadata": {
    "collapsed": false
   },
   "outputs": [],
   "source": [
    "# create classes for score\n",
    "lst = []\n",
    "for index, row in movie_data.iterrows():\n",
    "        if row['imdb_score'] > 8.5:\n",
    "            lst.append(5)\n",
    "        elif row['imdb_score'] > 8.0:\n",
    "            lst.append(4)\n",
    "        elif row['imdb_score'] > 7.0:\n",
    "            lst.append(3)\n",
    "        elif row['imdb_score'] > 5.0: \n",
    "            lst.append(2)\n",
    "        else:\n",
    "            lst.append(1)\n",
    "\n",
    "movie_data['quality_class'] = lst"
   ]
  },
  {
   "cell_type": "code",
   "execution_count": 327,
   "metadata": {
    "collapsed": true
   },
   "outputs": [],
   "source": [
    "# create classes for facebook likes\n",
    "lst = []\n",
    "for index, row in movie_data.iterrows():\n",
    "        if row['movie_facebook_likes'] > 150000:\n",
    "            lst.append(5)\n",
    "        elif row['movie_facebook_likes'] > 80000:\n",
    "            lst.append(4)\n",
    "        elif row['movie_facebook_likes'] > 20000:\n",
    "            lst.append(3)\n",
    "        elif row['movie_facebook_likes'] > 7500: \n",
    "            lst.append(2)\n",
    "        else:\n",
    "            lst.append(1)\n",
    "\n",
    "movie_data['popularity_class'] = lst"
   ]
  },
  {
   "cell_type": "code",
   "execution_count": 343,
   "metadata": {
    "collapsed": false
   },
   "outputs": [],
   "source": [
    "# create dataframe for variables\n",
    "train_test = pd.DataFrame({})\n",
    "\n",
    "for genre in genre_list:\n",
    "    train_test = pd.concat([train_test, movie_data[genre]], axis = 1)\n",
    "\n",
    "train_test = pd.concat([train_test, movie_data['director_facebook_likes']], axis = 1)\n",
    "train_test = pd.concat([train_test, movie_data['cast_total_facebook_likes']], axis = 1)\n",
    "train_test = pd.concat([train_test, movie_data['quality_class']], axis = 1)\n",
    "\n",
    "# split data\n",
    "training, testing = sklearn.model_selection.train_test_split(train_test, train_size = 0.4, test_size = 0.6)"
   ]
  },
  {
   "cell_type": "code",
   "execution_count": 344,
   "metadata": {
    "collapsed": false
   },
   "outputs": [
    {
     "name": "stdout",
     "output_type": "stream",
     "text": [
      "IMDB score class\n",
      "\tDummy Model 0.424317617866\n",
      "\tNaive SVC Model 0.572373862696\n"
     ]
    }
   ],
   "source": [
    "# score SVC model for imdb class\n",
    "print \"IMDB score class\"\n",
    "d_model = Dummy()\n",
    "d_model.fit(training.drop('quality_class', axis=1), training['quality_class'])\n",
    "print \"\\tDummy Model\", d_model.score(testing.drop('quality_class', axis = 1), testing['quality_class'])\n",
    "\n",
    "svc_model = SVC(C= 100)\n",
    "svc_model.fit(training.drop('quality_class', axis=1), training['quality_class'])\n",
    "\n",
    "print \"\\tNaive SVC Model\", lr_model.score(testing.drop('quality_class', axis = 1), testing['quality_class'])"
   ]
  },
  {
   "cell_type": "code",
   "execution_count": 345,
   "metadata": {
    "collapsed": true
   },
   "outputs": [],
   "source": [
    "# score SVC model for facebook likes class (with budget)\n",
    "train_test = pd.DataFrame({})\n",
    "\n",
    "for genre in genre_list:\n",
    "    train_test = pd.concat([train_test, movie_data[genre]], axis = 1)\n",
    "\n",
    "train_test = pd.concat([train_test, movie_data['director_facebook_likes']], axis = 1)\n",
    "train_test = pd.concat([train_test, movie_data['cast_total_facebook_likes']], axis = 1)\n",
    "train_test = pd.concat([train_test, movie_data['budget']], axis = 1)\n",
    "train_test = pd.concat([train_test, movie_data['popularity_class']], axis = 1)\n",
    "\n",
    "training, testing = sklearn.model_selection.train_test_split(train_test, train_size = 0.4, test_size = 0.6)"
   ]
  },
  {
   "cell_type": "code",
   "execution_count": 346,
   "metadata": {
    "collapsed": false
   },
   "outputs": [
    {
     "name": "stdout",
     "output_type": "stream",
     "text": [
      "Popularity class (with Budget)\n",
      "\tDummy Model 0.342431761787\n",
      "\tNaive SVC Model 0.471464019851\n"
     ]
    }
   ],
   "source": [
    "print \"Popularity class (with Budget)\"\n",
    "d_model = Dummy()\n",
    "d_model.fit(training.drop('popularity_class', axis=1), training['popularity_class'])\n",
    "print \"\\tDummy Model\", d_model.score(testing.drop('popularity_class', axis = 1), testing['popularity_class'])\n",
    "\n",
    "svc_model = SVC(C= 100)\n",
    "svc_model.fit(training.drop('popularity_class', axis=1), training['popularity_class'])\n",
    "\n",
    "print \"\\tNaive SVC Model\", svc_model.score(testing.drop('popularity_class', axis = 1), testing['popularity_class'])"
   ]
  },
  {
   "cell_type": "code",
   "execution_count": 347,
   "metadata": {
    "collapsed": false
   },
   "outputs": [],
   "source": [
    "# remove budget variable\n",
    "train_test = train_test.drop('budget', axis = 1)\n",
    "training, testing = sklearn.model_selection.train_test_split(train_test, train_size = 0.4, test_size = 0.6)"
   ]
  },
  {
   "cell_type": "code",
   "execution_count": 348,
   "metadata": {
    "collapsed": false
   },
   "outputs": [
    {
     "name": "stdout",
     "output_type": "stream",
     "text": [
      "Popularity class (without Budget)\n",
      "Dummy Model 0.344086021505\n",
      "Naive SVC Model 0.502894954508\n"
     ]
    }
   ],
   "source": [
    "# score SVC model for facebook likes class (without budget)\n",
    "print \"Popularity class (without Budget)\"\n",
    "d_model = Dummy()\n",
    "d_model.fit(training.drop('popularity_class', axis=1), training['popularity_class'])\n",
    "print \"Dummy Model\", d_model.score(testing.drop('popularity_class', axis = 1), testing['popularity_class'])\n",
    "\n",
    "svc_model = SVC()\n",
    "svc_model.fit(training.drop('popularity_class', axis=1), training['popularity_class'])\n",
    "print \"Naive SVC Model\", svc_model.score(testing.drop('popularity_class', axis = 1), testing['popularity_class'])"
   ]
  },
  {
   "cell_type": "code",
   "execution_count": 349,
   "metadata": {
    "collapsed": true
   },
   "outputs": [],
   "source": [
    "# create classes for gross box office\n",
    "lst = []\n",
    "for index, row in movie_data.iterrows():\n",
    "        if row['gross'] > 600000000:\n",
    "            lst.append(5)\n",
    "        elif row['gross'] > 200000000:\n",
    "            lst.append(4)\n",
    "        elif row['gross'] > 50000000:\n",
    "            lst.append(3)\n",
    "        elif row['gross'] > 10000000: \n",
    "            lst.append(2)\n",
    "        else:\n",
    "            lst.append(1)\n",
    "\n",
    "movie_data['gross_class'] = lst"
   ]
  },
  {
   "cell_type": "code",
   "execution_count": 350,
   "metadata": {
    "collapsed": true
   },
   "outputs": [],
   "source": [
    "# create dataframe of relevent variables\n",
    "train_test = pd.DataFrame({})\n",
    "\n",
    "for genre in genre_list:\n",
    "    train_test = pd.concat([train_test, movie_data[genre]], axis = 1)\n",
    "\n",
    "train_test = pd.concat([train_test, movie_data['director_facebook_likes']], axis = 1)\n",
    "train_test = pd.concat([train_test, movie_data['cast_total_facebook_likes']], axis = 1)\n",
    "train_test = pd.concat([train_test, movie_data['budget']], axis = 1)\n",
    "train_test = pd.concat([train_test, movie_data['gross_class']], axis = 1)\n",
    "\n",
    "training, testing = sklearn.model_selection.train_test_split(train_test, train_size = 0.4, test_size = 0.6)"
   ]
  },
  {
   "cell_type": "code",
   "execution_count": 351,
   "metadata": {
    "collapsed": false
   },
   "outputs": [
    {
     "name": "stdout",
     "output_type": "stream",
     "text": [
      "Box Office class (unadjusted)\n",
      "\tDummy Model 0.285359801489\n",
      "\tNaive SVC Model 0.39123242349\n"
     ]
    }
   ],
   "source": [
    "# score SVC model for gross box office class\n",
    "print \"Box Office class (unadjusted)\"\n",
    "d_model = Dummy()\n",
    "d_model.fit(training.drop('gross_class', axis=1), training['gross_class'])\n",
    "print \"\\tDummy Model\", d_model.score(testing.drop('gross_class', axis = 1), testing['gross_class'])\n",
    "\n",
    "svc_model = SVC(C=100)\n",
    "svc_model.fit(training.drop('gross_class', axis=1), training['gross_class'])\n",
    "print \"\\tNaive SVC Model\", svc_model.score(testing.drop('gross_class', axis = 1), testing['gross_class'])"
   ]
  },
  {
   "cell_type": "code",
   "execution_count": null,
   "metadata": {
    "collapsed": true
   },
   "outputs": [],
   "source": []
  }
 ],
 "metadata": {
  "anaconda-cloud": {},
  "kernelspec": {
   "display_name": "Python [Root]",
   "language": "python",
   "name": "Python [Root]"
  },
  "language_info": {
   "codemirror_mode": {
    "name": "ipython",
    "version": 2
   },
   "file_extension": ".py",
   "mimetype": "text/x-python",
   "name": "python",
   "nbconvert_exporter": "python",
   "pygments_lexer": "ipython2",
   "version": "2.7.12"
  }
 },
 "nbformat": 4,
 "nbformat_minor": 0
}
