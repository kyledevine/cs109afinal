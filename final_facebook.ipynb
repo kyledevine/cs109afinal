{
 "cells": [
  {
   "cell_type": "markdown",
   "metadata": {},
   "source": [
    "# Final Results: Facebook Likes"
   ]
  },
  {
   "cell_type": "markdown",
   "metadata": {},
   "source": [
    "Import libraries"
   ]
  },
  {
   "cell_type": "code",
   "execution_count": 2,
   "metadata": {
    "collapsed": false
   },
   "outputs": [
    {
     "name": "stderr",
     "output_type": "stream",
     "text": [
      "/Users/kyledevine/anaconda/lib/python2.7/site-packages/sklearn/cross_validation.py:44: DeprecationWarning: This module was deprecated in version 0.18 in favor of the model_selection module into which all the refactored classes and functions are moved. Also note that the interface of the new CV iterators are different from that of this module. This module will be removed in 0.20.\n",
      "  \"This module will be removed in 0.20.\", DeprecationWarning)\n"
     ]
    }
   ],
   "source": [
    "import numpy as np\n",
    "import pandas as pd\n",
    "from sklearn.linear_model import LogisticRegression as LogReg\n",
    "import matplotlib\n",
    "import matplotlib.pyplot as plt\n",
    "import math\n",
    "import StringIO\n",
    "import sklearn\n",
    "from sklearn.decomposition import PCA\n",
    "from sklearn.utils import shuffle\n",
    "from sklearn.ensemble import RandomForestRegressor as RFR\n",
    "from sklearn import svm\n",
    "from sklearn.dummy import DummyClassifier as Dummy\n",
    "from sklearn.cross_validation import cross_val_score\n",
    "from sklearn.linear_model import LinearRegression as LinReg\n",
    "from sklearn.linear_model import LogisticRegression\n",
    "from sklearn.linear_model import Ridge\n",
    "from sklearn.linear_model import Lasso\n",
    "from sklearn.discriminant_analysis import LinearDiscriminantAnalysis as LDA\n",
    "from sklearn.discriminant_analysis import QuadraticDiscriminantAnalysis as QDA\n",
    "from sklearn.neighbors import KNeighborsClassifier as KNN\n",
    "from sklearn import tree\n",
    "from sklearn.tree import DecisionTreeClassifier as DecisionTree\n",
    "from sklearn.ensemble import RandomForestClassifier as RFC\n",
    "from sklearn.svm import SVC\n",
    "%matplotlib inline"
   ]
  },
  {
   "cell_type": "code",
   "execution_count": 3,
   "metadata": {
    "collapsed": false,
    "scrolled": true
   },
   "outputs": [],
   "source": [
    "movie_data = pd.read_csv('movie_metadata.csv')\n",
    "movie_data = movie_data[np.isfinite(movie_data['budget'])]\n",
    "movie_data = movie_data[np.isfinite(movie_data['duration'])]\n",
    "movie_data = movie_data[np.isfinite(movie_data['gross'])]\n",
    "movie_data = movie_data[np.isfinite(movie_data['title_year'])]\n",
    "movie_data = movie_data[np.isfinite(movie_data['cast_total_facebook_likes'])]\n",
    "movie_data = movie_data[np.isfinite(movie_data['imdb_score'])]\n",
    "\n",
    "# create genre list\n",
    "genre_list = ['Action', 'Adventure', 'Animation', 'Biography', 'Comedy', 'Crime', 'Drama', 'Fantasy', 'History', 'Horror', 'Mystery', 'Romance']\n",
    "\n",
    "# create categorical variables for these common genres\n",
    "for genre in genre_list:\n",
    "    lst = []\n",
    "    for index, row in movie_data.iterrows():\n",
    "        if (row['genres']).find(genre) != -1:\n",
    "            lst.append(1)\n",
    "        else:\n",
    "            lst.append(0)\n",
    "    movie_data[genre] = lst"
   ]
  },
  {
   "cell_type": "code",
   "execution_count": 4,
   "metadata": {
    "collapsed": false
   },
   "outputs": [
    {
     "name": "stdout",
     "output_type": "stream",
     "text": [
      "Number of Directors:  91\n"
     ]
    }
   ],
   "source": [
    "counts = pd.value_counts(movie_data['director_name'])\n",
    "counts = counts[counts > 6]\n",
    "\n",
    "directors = counts.index.tolist()\n",
    "print \"Number of Directors: \", len(directors)"
   ]
  },
  {
   "cell_type": "code",
   "execution_count": 5,
   "metadata": {
    "collapsed": false
   },
   "outputs": [
    {
     "name": "stdout",
     "output_type": "stream",
     "text": [
      "Number of Actors:  97\n"
     ]
    }
   ],
   "source": [
    "counts_actors = pd.value_counts(movie_data['actor_1_name'])\n",
    "\n",
    "counts_actors = counts_actors[counts_actors > 7]\n",
    "\n",
    "actors = counts_actors.index.tolist()\n",
    "print \"Number of Actors: \",len(actors)"
   ]
  },
  {
   "cell_type": "code",
   "execution_count": 6,
   "metadata": {
    "collapsed": false
   },
   "outputs": [],
   "source": [
    "for director in directors:\n",
    "    lst = []\n",
    "    for _, row in movie_data.iterrows():\n",
    "        if row['director_name'] == director:\n",
    "            lst.append(1)\n",
    "        else:\n",
    "            lst.append(0)\n",
    "    movie_data[director] = lst"
   ]
  },
  {
   "cell_type": "code",
   "execution_count": 7,
   "metadata": {
    "collapsed": true
   },
   "outputs": [],
   "source": [
    "for actor in actors:\n",
    "    lst = []\n",
    "    for _, row in movie_data.iterrows():\n",
    "        if row['actor_1_name'] == actor or row['actor_2_name'] == actor or row['actor_3_name'] == actor:\n",
    "            lst.append(1)\n",
    "        else:\n",
    "            lst.append(0)\n",
    "    movie_data[actor] = lst"
   ]
  },
  {
   "cell_type": "code",
   "execution_count": 8,
   "metadata": {
    "collapsed": false
   },
   "outputs": [],
   "source": [
    "budget_inf = []\n",
    "gross_inf = []\n",
    "\n",
    "# take log value of each budget and gross value\n",
    "for _, row in movie_data.iterrows():\n",
    "    budget = math.log10(row['budget'])\n",
    "    gross = math.log10(row['gross'])\n",
    "    budget_inf.append(budget)\n",
    "    gross_inf.append(gross)\n",
    "\n",
    "# add as columns of dataframe\n",
    "movie_data['budget_inf'] = budget_inf\n",
    "movie_data['gross_inf'] = gross_inf"
   ]
  },
  {
   "cell_type": "code",
   "execution_count": 9,
   "metadata": {
    "collapsed": true
   },
   "outputs": [],
   "source": [
    "# create classes for facebook likes\n",
    "lst = []\n",
    "for index, row in movie_data.iterrows():\n",
    "        if row['movie_facebook_likes'] > 150000:\n",
    "            lst.append(5)\n",
    "        elif row['movie_facebook_likes'] > 80000:\n",
    "            lst.append(4)\n",
    "        elif row['movie_facebook_likes'] > 20000:\n",
    "            lst.append(3)\n",
    "        elif row['movie_facebook_likes'] > 7500: \n",
    "            lst.append(2)\n",
    "        else:\n",
    "            lst.append(1)\n",
    "\n",
    "movie_data['popularity_class'] = lst"
   ]
  },
  {
   "cell_type": "code",
   "execution_count": 11,
   "metadata": {
    "collapsed": false
   },
   "outputs": [],
   "source": [
    "# score SVC model for facebook likes class (with budget)\n",
    "train_test = pd.DataFrame({})\n",
    "\n",
    "for genre in genre_list:\n",
    "    train_test = pd.concat([train_test, movie_data[genre]], axis = 1)\n",
    "\n",
    "train_test = pd.concat([train_test, movie_data[directors]], axis = 1)\n",
    "train_test = pd.concat([train_test, movie_data[actors]], axis = 1)\n",
    "train_test = pd.concat([train_test, movie_data['budget']], axis = 1)\n",
    "train_test = pd.concat([train_test, movie_data['title_year']], axis = 1)\n",
    "train_test = pd.concat([train_test, movie_data['popularity_class']], axis = 1)\n",
    "train_test = pd.concat([train_test, pd.get_dummies(movie_data['content_rating'])], axis = 1)\n",
    "\n",
    "# split\n",
    "training, testing = sklearn.model_selection.train_test_split(train_test, train_size = 0.4, test_size = 0.6)"
   ]
  },
  {
   "cell_type": "code",
   "execution_count": 12,
   "metadata": {
    "collapsed": false
   },
   "outputs": [
    {
     "name": "stdout",
     "output_type": "stream",
     "text": [
      "Popularity class (with Budget)\n",
      "\tDummy Model:  0.546272493573\n",
      "\tRandom Forest Classifier Model 0.74764353042\n"
     ]
    }
   ],
   "source": [
    "# fit and score dummy and RFC model\n",
    "print \"Popularity class (with Budget)\"\n",
    "d_model = Dummy()\n",
    "d_model.fit(training.drop('popularity_class', axis=1), training['popularity_class'])\n",
    "print \"\\tDummy Model: \", d_model.score(testing.drop('popularity_class', axis = 1), testing['popularity_class'])\n",
    "\n",
    "rfc_model = RFC(max_depth = 10, n_estimators=50)\n",
    "rfc_model.fit(training.drop('popularity_class', axis=1), training['popularity_class'])\n",
    "\n",
    "print \"\\tRandom Forest Classifier Model\", rfc_model.score(testing.drop('popularity_class', axis = 1), testing['popularity_class'])"
   ]
  },
  {
   "cell_type": "code",
   "execution_count": null,
   "metadata": {
    "collapsed": true
   },
   "outputs": [],
   "source": []
  }
 ],
 "metadata": {
  "anaconda-cloud": {},
  "kernelspec": {
   "display_name": "Python [Root]",
   "language": "python",
   "name": "Python [Root]"
  },
  "language_info": {
   "codemirror_mode": {
    "name": "ipython",
    "version": 2
   },
   "file_extension": ".py",
   "mimetype": "text/x-python",
   "name": "python",
   "nbconvert_exporter": "python",
   "pygments_lexer": "ipython2",
   "version": "2.7.12"
  }
 },
 "nbformat": 4,
 "nbformat_minor": 0
}
