{
 "cells": [
  {
   "cell_type": "markdown",
   "metadata": {},
   "source": [
    "# Final Results: IMDb Ratings"
   ]
  },
  {
   "cell_type": "markdown",
   "metadata": {},
   "source": [
    "Import libraries"
   ]
  },
  {
   "cell_type": "code",
   "execution_count": 2,
   "metadata": {
    "collapsed": false
   },
   "outputs": [
    {
     "name": "stderr",
     "output_type": "stream",
     "text": [
      "/Users/kyledevine/anaconda/lib/python2.7/site-packages/sklearn/cross_validation.py:44: DeprecationWarning: This module was deprecated in version 0.18 in favor of the model_selection module into which all the refactored classes and functions are moved. Also note that the interface of the new CV iterators are different from that of this module. This module will be removed in 0.20.\n",
      "  \"This module will be removed in 0.20.\", DeprecationWarning)\n"
     ]
    }
   ],
   "source": [
    "import numpy as np\n",
    "import pandas as pd\n",
    "from sklearn.linear_model import LogisticRegression as LogReg\n",
    "import matplotlib\n",
    "import matplotlib.pyplot as plt\n",
    "import math\n",
    "import StringIO\n",
    "import sklearn\n",
    "from sklearn.decomposition import PCA\n",
    "from sklearn.utils import shuffle\n",
    "from sklearn.ensemble import RandomForestRegressor as RFR\n",
    "from sklearn import svm\n",
    "from sklearn.dummy import DummyClassifier as Dummy\n",
    "from sklearn.cross_validation import cross_val_score\n",
    "from sklearn.linear_model import LinearRegression as LinReg\n",
    "from sklearn.linear_model import LogisticRegression\n",
    "from sklearn.linear_model import Ridge\n",
    "from sklearn.linear_model import Lasso\n",
    "from sklearn.discriminant_analysis import LinearDiscriminantAnalysis as LDA\n",
    "from sklearn.discriminant_analysis import QuadraticDiscriminantAnalysis as QDA\n",
    "from sklearn.neighbors import KNeighborsClassifier as KNN\n",
    "from sklearn import tree\n",
    "from sklearn.tree import DecisionTreeClassifier as DecisionTree\n",
    "from sklearn.ensemble import RandomForestClassifier as RFC\n",
    "from sklearn.svm import SVC\n",
    "%matplotlib inline"
   ]
  },
  {
   "cell_type": "code",
   "execution_count": 3,
   "metadata": {
    "collapsed": false,
    "scrolled": true
   },
   "outputs": [],
   "source": [
    "# read in movie data and remove rows with missing column data\n",
    "movie_data = pd.read_csv('movie_metadata.csv')\n",
    "movie_data = movie_data[np.isfinite(movie_data['budget'])]\n",
    "movie_data = movie_data[np.isfinite(movie_data['duration'])]\n",
    "movie_data = movie_data[np.isfinite(movie_data['gross'])]\n",
    "movie_data = movie_data[np.isfinite(movie_data['title_year'])]\n",
    "movie_data = movie_data[np.isfinite(movie_data['cast_total_facebook_likes'])]\n",
    "movie_data = movie_data[np.isfinite(movie_data['imdb_score'])]\n",
    "\n",
    "# create genre list\n",
    "genre_list = ['Action', 'Adventure', 'Animation', 'Biography', 'Comedy', 'Crime', 'Drama', 'Fantasy', 'History', 'Horror', 'Mystery', 'Romance']\n",
    "\n",
    "# create categorical variables for these common genres\n",
    "for genre in genre_list:\n",
    "    lst = []\n",
    "    for index, row in movie_data.iterrows():\n",
    "        if (row['genres']).find(genre) != -1:\n",
    "            lst.append(1)\n",
    "        else:\n",
    "            lst.append(0)\n",
    "    movie_data[genre] = lst"
   ]
  },
  {
   "cell_type": "code",
   "execution_count": 4,
   "metadata": {
    "collapsed": false
   },
   "outputs": [
    {
     "name": "stdout",
     "output_type": "stream",
     "text": [
      "Number of Directors:  91\n"
     ]
    }
   ],
   "source": [
    "# create list of most common directors\n",
    "counts = pd.value_counts(movie_data['director_name'])\n",
    "counts = counts[counts > 6]\n",
    "\n",
    "directors = counts.index.tolist()\n",
    "print \"Number of Directors: \", len(directors)"
   ]
  },
  {
   "cell_type": "code",
   "execution_count": 6,
   "metadata": {
    "collapsed": false
   },
   "outputs": [
    {
     "name": "stdout",
     "output_type": "stream",
     "text": [
      "Number of Actors:  97\n"
     ]
    }
   ],
   "source": [
    "# create a list of most common actors\n",
    "counts_actors = pd.value_counts(movie_data['actor_1_name'])\n",
    "counts_actors = counts_actors[counts_actors > 7]\n",
    "\n",
    "actors = counts_actors.index.tolist()\n",
    "print \"Number of Actors: \", len(actors)"
   ]
  },
  {
   "cell_type": "code",
   "execution_count": 7,
   "metadata": {
    "collapsed": false
   },
   "outputs": [],
   "source": [
    "# create categorical column for each director\n",
    "for director in directors:\n",
    "    lst = []\n",
    "    for _, row in movie_data.iterrows():\n",
    "        if row['director_name'] == director:\n",
    "            lst.append(1)\n",
    "        else:\n",
    "            lst.append(0)\n",
    "    movie_data[director] = lst"
   ]
  },
  {
   "cell_type": "code",
   "execution_count": 8,
   "metadata": {
    "collapsed": true
   },
   "outputs": [],
   "source": [
    "# create categorical column for each actor\n",
    "for actor in actors:\n",
    "    lst = []\n",
    "    for _, row in movie_data.iterrows():\n",
    "        if row['actor_1_name'] == actor or row['actor_2_name'] == actor or row['actor_3_name'] == actor:\n",
    "            lst.append(1)\n",
    "        else:\n",
    "            lst.append(0)\n",
    "    movie_data[actor] = lst"
   ]
  },
  {
   "cell_type": "code",
   "execution_count": 103,
   "metadata": {
    "collapsed": false
   },
   "outputs": [],
   "source": [
    "# get list of inflation rates\n",
    "inf = np.loadtxt('inf.csv')\n",
    "budget_inf = []\n",
    "gross_inf = []\n",
    "\n",
    "# get log-10 values for each budget value and each row values\n",
    "for _, row in movie_data.iterrows():\n",
    "    budget = math.log10(row['budget'])\n",
    "    gross = math.log10(row['gross'])\n",
    "    budget_inf.append(budget)\n",
    "    gross_inf.append(gross)\n",
    "\n",
    "# create columns for these log values\n",
    "movie_data['budget_inf'] = budget_inf\n",
    "movie_data['gross_inf'] = gross_inf"
   ]
  },
  {
   "cell_type": "code",
   "execution_count": 106,
   "metadata": {
    "collapsed": false
   },
   "outputs": [
    {
     "name": "stdout",
     "output_type": "stream",
     "text": [
      "Ridge Regression Model on Training Set: 0.330662947591\n",
      "Ridge Regression Model on Testing Set: 0.301741905274\n"
     ]
    }
   ],
   "source": [
    "# create new dataframe\n",
    "train_test = pd.DataFrame({})\n",
    "\n",
    "# add columns to be used for regression\n",
    "train_test = pd.concat([train_test, movie_data[genre]], axis = 1)\n",
    "train_test = pd.concat([train_test, movie_data[directors]], axis = 1)\n",
    "train_test = pd.concat([train_test, movie_data[actors]], axis = 1)\n",
    "train_test = pd.concat([train_test, movie_data['budget_inf']], axis = 1)\n",
    "train_test = pd.concat([train_test, movie_data['imdb_score']], axis = 1)\n",
    "train_test = pd.concat([train_test, movie_data['duration']], axis = 1)\n",
    "train_test = pd.concat([train_test, pd.get_dummies(movie_data['content_rating'])], axis = 1)\n",
    "\n",
    "# create and split training and testing groups\n",
    "training, testing = sklearn.model_selection.train_test_split(train_test, train_size = 0.4, test_size = 0.6)\n",
    "\n",
    "# create and fit ridge regression model\n",
    "rr_model = Ridge(alpha = 6)\n",
    "rr_model.fit(training.drop('imdb_score', axis=1), training['imdb_score'])\n",
    "\n",
    "# print scores\n",
    "print \"Ridge Regression Model on Training Set:\", rr_model.score(training.drop('imdb_score', axis = 1), training['imdb_score'])\n",
    "print \"Ridge Regression Model on Testing Set:\", rr_model.score(testing.drop('imdb_score', axis = 1), testing['imdb_score'])"
   ]
  },
  {
   "cell_type": "code",
   "execution_count": 71,
   "metadata": {
    "collapsed": false
   },
   "outputs": [
    {
     "data": {
      "text/plain": [
       "<matplotlib.legend.Legend at 0x11b4922d0>"
      ]
     },
     "execution_count": 71,
     "metadata": {},
     "output_type": "execute_result"
    },
    {
     "data": {
      "image/png": "[encoded data removed]",
      "text/plain": [
       "<matplotlib.figure.Figure at 0x11aef2790>"
      ]
     },
     "metadata": {},
     "output_type": "display_data"
    }
   ],
   "source": [
    "# create list to keep tracks of scores\n",
    "cv_list = []\n",
    "test_scores = []\n",
    "train_scores = []\n",
    "\n",
    "# shuffle values before CV\n",
    "train_test_shuffled = shuffle(train_test)\n",
    "\n",
    "# for each alpha value, score models\n",
    "for i in range(1,15):\n",
    "    rr_model = Ridge(alpha = i)\n",
    "    cv_scores = cross_val_score(rr_model, train_test_shuffled.drop('imdb_score', axis=1), train_test_shuffled['imdb_score'], cv = 4)\n",
    "    cv_list.append(np.mean(cv_scores))\n",
    "    \n",
    "    rr_model.fit(training.drop('imdb_score', axis=1), training['imdb_score'])\n",
    "    \n",
    "    train_scores.append(rr_model.score(training.drop('imdb_score', axis=1), training['imdb_score']))\n",
    "    test_scores.append(rr_model.score(testing.drop('imdb_score', axis=1), testing['imdb_score']))\n",
    "\n",
    "# plot scores\n",
    "fig = plt.figure(figsize=(10,15))\n",
    "ax1 = fig.add_subplot(211)\n",
    "ax1.plot(range(1,15), cv_list, label= 'CV')\n",
    "ax1.plot(range(1,15), train_scores, c = 'g', label = 'Training')\n",
    "ax1.plot(range(1,15), test_scores, c='r', label = 'Testing')\n",
    "ax1.set_title('Scores vs. Ridge Alpha Value')\n",
    "ax1.set_xlabel('Alpha Value')\n",
    "ax1.set_ylabel('Score')\n",
    "ax1.legend()"
   ]
  },
  {
   "cell_type": "code",
   "execution_count": 118,
   "metadata": {
    "collapsed": false
   },
   "outputs": [],
   "source": [
    "# create classes for score\n",
    "lst = []\n",
    "for index, row in movie_data.iterrows():\n",
    "        if row['imdb_score'] > 8.5:\n",
    "            lst.append(5)\n",
    "        elif row['imdb_score'] > 7.5:\n",
    "            lst.append(4)\n",
    "        elif row['imdb_score'] > 6.0:\n",
    "            lst.append(3)\n",
    "        elif row['imdb_score'] > 5.0: \n",
    "            lst.append(2)\n",
    "        else:\n",
    "            lst.append(1)\n",
    "\n",
    "movie_data['quality_class'] = lst"
   ]
  },
  {
   "cell_type": "code",
   "execution_count": 156,
   "metadata": {
    "collapsed": false
   },
   "outputs": [],
   "source": [
    "# create dataframe for variables\n",
    "train_test = pd.DataFrame({})\n",
    "\n",
    "\n",
    "train_test = pd.concat([train_test, movie_data[genre_list]], axis = 1)\n",
    "train_test = pd.concat([train_test, movie_data[directors]], axis = 1)\n",
    "train_test = pd.concat([train_test, movie_data[actors]], axis = 1)\n",
    "train_test = pd.concat([train_test, movie_data['budget_inf']], axis = 1)\n",
    "train_test = pd.concat([train_test, movie_data['duration']], axis = 1)\n",
    "train_test = pd.concat([train_test, movie_data['quality_class']], axis = 1)\n",
    "train_test = pd.concat([train_test, pd.get_dummies(movie_data['content_rating'])], axis = 1)\n",
    "\n",
    "# split data\n",
    "training, testing = sklearn.model_selection.train_test_split(train_test, train_size = 0.4, test_size = 0.6)\n",
    "\n"
   ]
  },
  {
   "cell_type": "code",
   "execution_count": 157,
   "metadata": {
    "collapsed": false
   },
   "outputs": [
    {
     "name": "stdout",
     "output_type": "stream",
     "text": [
      "IMDB score class\n",
      "\tDummy Model 0.357754927164\n",
      "\tRandom Forest Classifier Model 0.554841473865\n"
     ]
    }
   ],
   "source": [
    "# score dummy model for imdb class\n",
    "print \"IMDB score class\"\n",
    "d_model = Dummy()\n",
    "d_model.fit(training.drop('quality_class', axis=1), training['quality_class'])\n",
    "print \"\\tDummy Model\", d_model.score(testing.drop('quality_class', axis = 1), testing['quality_class'])\n",
    "\n",
    "# create random forest classifier\n",
    "rfc_model = RFC(max_depth=6, n_estimators=10)\n",
    "rfc_model.fit(training.drop('quality_class', axis=1), training['quality_class'])\n",
    "\n",
    "print \"\\tRandom Forest Classifier Model\", rfc_model.score(testing.drop('quality_class', axis = 1), testing['quality_class'])"
   ]
  }
 ],
 "metadata": {
  "anaconda-cloud": {},
  "kernelspec": {
   "display_name": "Python [Root]",
   "language": "python",
   "name": "Python [Root]"
  },
  "language_info": {
   "codemirror_mode": {
    "name": "ipython",
    "version": 2
   },
   "file_extension": ".py",
   "mimetype": "text/x-python",
   "name": "python",
   "nbconvert_exporter": "python",
   "pygments_lexer": "ipython2",
   "version": "2.7.12"
  }
 },
 "nbformat": 4,
 "nbformat_minor": 0
}
